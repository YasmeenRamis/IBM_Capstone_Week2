{
    "cells": [
        {
            "metadata": {
                "collapsed": true
            },
            "cell_type": "markdown",
            "source": "# Battle of neighborhoods Week 1\nBy - Yasmeen Ramis"
        },
        {
            "metadata": {},
            "cell_type": "markdown",
            "source": "## INTRODUCTION"
        },
        {
            "metadata": {},
            "cell_type": "markdown",
            "source": "New York City's demographics show that it is a large and ethnically diverse metropolis. It is the largest city in the United States with a long history of international immigration. New York City was home to nearly 8.5 million people in 2014, accounting for over 40% of the population of New York State and a slightly lower percentage of the New York metropolitan area, home to approximately 23.6 million. Over the last decade the city has been growing faster than the region. The New York region continues to be by far the leading metropolitan gateway for legal immigrants admitted into the United States.\n\nThroughout its history, New York City has been a major point of entry for immigrants; the term \"melting pot\" was coined to describe densely populated immigrant neighborhoods on the Lower East Side. As many as 800 languages are spoken in New York, making it the most linguistically diverse city in the world. English remains the most widely spoken language, although there are areas in the outer boroughs in which up to 25% of people speak English as an alternate language, and/or have limited or no English language fluency. English is least spoken in neighborhoods such as Flushing, Sunset Park, and Corona.\n\nWith it's diverse culture , comes diverse food items. There are many restaurants in New york City, each beloning to different categories like Chinese , Indian , French etc.\n\nSo as part of this project , we will list and visualize all major parts of New York City that has great indian resturants."
        },
        {
            "metadata": {},
            "cell_type": "markdown",
            "source": "## DATA"
        },
        {
            "metadata": {},
            "cell_type": "markdown",
            "source": "Data For this project we need the following data :\n\nNew York City data that contains list Boroughs, Neighborhoods along with their latitude and longitude. Data source : https://cocl.us/new_york_dataset Description : This data set contains the required information. And we will use this data set to explore various neighborhoods of new york city. Indian resturants in each neighborhood of new york city. Data source : Fousquare API Description : By using this api we will get all the venues in each neighborhood. We can filter these venues to get only indian restaurants. GeoSpace data Data source : https://data.cityofnewyork.us/City-Government/Borough-Boundaries/tqmj-j8zm Description : By using this geo space data we will get the New york Borough boundaries that will help us visualize choropleth map."
        },
        {
            "metadata": {},
            "cell_type": "markdown",
            "source": "## APPROACH "
        },
        {
            "metadata": {},
            "cell_type": "markdown",
            "source": "1.Collect the new york city data from https://cocl.us/new_york_dataset\n\n2.Using FourSquare API we will find all venues for each neighborhood.\n\n3.Filter out all venues that are Indian Resturants.\n\n4.Find rating , tips and like count for each Indian Resturants using FourSquare API.\n\n5.Using rating for each resturant , we will sort that data.\n\n6.Visualize the Ranking of neighborhoods using folium library(python)\n"
        },
        {
            "metadata": {},
            "cell_type": "markdown",
            "source": "## Queries that can be answered using above dataset"
        },
        {
            "metadata": {},
            "cell_type": "markdown",
            "source": "1.What is best location in New York City for Indian Cuisine ?\n\n2.Which areas have potential Indian Restaurant Market ?\n\n3.Which all areas lack Indian Restaurants ?\n\n4.Which is the best place to stay if I prefer Indian Cuisine ?"
        },
        {
            "metadata": {},
            "cell_type": "markdown",
            "source": "## ANALYSIS"
        },
        {
            "metadata": {},
            "cell_type": "markdown",
            "source": "### Required Libraries"
        },
        {
            "metadata": {},
            "cell_type": "markdown",
            "source": "> **pandas** and numpy for handling data.\n\n> **request** module for using FourSquare API.\n\n> **geopy** to get co-ordinates of City of New York.\n\n> **folium** to visualize the results on a map"
        },
        {
            "metadata": {},
            "cell_type": "markdown",
            "source": "## CONCLUSION"
        },
        {
            "metadata": {},
            "cell_type": "markdown",
            "source": ">Astoria(Queens), Blissville(Queens), Civic Center(Manhattan) are some of the best neighborhoods for indian cuisine.\n\n>Manhattan have potential Indian Restaurant Market\n\n>Staten Island ranks last in average rating of Indian Restaurants.\n\n>Manhattan is the best place to stay if you prefer Indian Cuisine."
        },
        {
            "metadata": {},
            "cell_type": "markdown",
            "source": "## LIMITATIONS"
        },
        {
            "metadata": {},
            "cell_type": "markdown",
            "source": ">The ranking is purely on basis of rating of restaurants\n\n>The accuracy of data depends purely depends on the data provided by FourSquare"
        },
        {
            "metadata": {},
            "cell_type": "code",
            "source": "",
            "execution_count": null,
            "outputs": []
        }
    ],
    "metadata": {
        "kernelspec": {
            "name": "python3",
            "display_name": "Python 3.6",
            "language": "python"
        },
        "language_info": {
            "name": "python",
            "version": "3.6.9",
            "mimetype": "text/x-python",
            "codemirror_mode": {
                "name": "ipython",
                "version": 3
            },
            "pygments_lexer": "ipython3",
            "nbconvert_exporter": "python",
            "file_extension": ".py"
        }
    },
    "nbformat": 4,
    "nbformat_minor": 1
}